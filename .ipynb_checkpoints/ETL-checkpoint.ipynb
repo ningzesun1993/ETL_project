{
 "cells": [
  {
   "cell_type": "code",
   "execution_count": 1,
   "metadata": {},
   "outputs": [],
   "source": [
    "import pandas as pd\n",
    "import requests\n",
    "import numpy as np\n",
    "import json\n",
    "from pymongo import MongoClient"
   ]
  },
  {
   "cell_type": "code",
   "execution_count": 2,
   "metadata": {},
   "outputs": [
    {
     "data": {
      "text/html": [
       "<div>\n",
       "<style scoped>\n",
       "    .dataframe tbody tr th:only-of-type {\n",
       "        vertical-align: middle;\n",
       "    }\n",
       "\n",
       "    .dataframe tbody tr th {\n",
       "        vertical-align: top;\n",
       "    }\n",
       "\n",
       "    .dataframe thead th {\n",
       "        text-align: right;\n",
       "    }\n",
       "</style>\n",
       "<table border=\"1\" class=\"dataframe\">\n",
       "  <thead>\n",
       "    <tr style=\"text-align: right;\">\n",
       "      <th></th>\n",
       "      <th>Country</th>\n",
       "      <th>Region</th>\n",
       "      <th>Happiness Rank</th>\n",
       "      <th>Happiness Score</th>\n",
       "      <th>Standard Error</th>\n",
       "      <th>Economy (GDP per Capita)</th>\n",
       "      <th>Family</th>\n",
       "      <th>Health (Life Expectancy)</th>\n",
       "      <th>Freedom</th>\n",
       "      <th>Trust (Government Corruption)</th>\n",
       "      <th>Generosity</th>\n",
       "      <th>Dystopia Residual</th>\n",
       "      <th>code</th>\n",
       "      <th>population</th>\n",
       "      <th>area</th>\n",
       "    </tr>\n",
       "  </thead>\n",
       "  <tbody>\n",
       "    <tr>\n",
       "      <th>0</th>\n",
       "      <td>Switzerland</td>\n",
       "      <td>Western Europe</td>\n",
       "      <td>1</td>\n",
       "      <td>7.587</td>\n",
       "      <td>0.03411</td>\n",
       "      <td>1.39651</td>\n",
       "      <td>1.34951</td>\n",
       "      <td>0.94143</td>\n",
       "      <td>0.66557</td>\n",
       "      <td>0.41978</td>\n",
       "      <td>0.29678</td>\n",
       "      <td>2.51738</td>\n",
       "      <td>CHE</td>\n",
       "      <td>8341600</td>\n",
       "      <td>41284</td>\n",
       "    </tr>\n",
       "    <tr>\n",
       "      <th>1</th>\n",
       "      <td>Iceland</td>\n",
       "      <td>Western Europe</td>\n",
       "      <td>2</td>\n",
       "      <td>7.561</td>\n",
       "      <td>0.04884</td>\n",
       "      <td>1.30232</td>\n",
       "      <td>1.40223</td>\n",
       "      <td>0.94784</td>\n",
       "      <td>0.62877</td>\n",
       "      <td>0.14145</td>\n",
       "      <td>0.43630</td>\n",
       "      <td>2.70201</td>\n",
       "      <td>ISL</td>\n",
       "      <td>334300</td>\n",
       "      <td>103000</td>\n",
       "    </tr>\n",
       "    <tr>\n",
       "      <th>2</th>\n",
       "      <td>Denmark</td>\n",
       "      <td>Western Europe</td>\n",
       "      <td>3</td>\n",
       "      <td>7.527</td>\n",
       "      <td>0.03328</td>\n",
       "      <td>1.32548</td>\n",
       "      <td>1.36058</td>\n",
       "      <td>0.87464</td>\n",
       "      <td>0.64938</td>\n",
       "      <td>0.48357</td>\n",
       "      <td>0.34139</td>\n",
       "      <td>2.49204</td>\n",
       "      <td>DNK</td>\n",
       "      <td>5717014</td>\n",
       "      <td>43094</td>\n",
       "    </tr>\n",
       "    <tr>\n",
       "      <th>3</th>\n",
       "      <td>Norway</td>\n",
       "      <td>Western Europe</td>\n",
       "      <td>4</td>\n",
       "      <td>7.522</td>\n",
       "      <td>0.03880</td>\n",
       "      <td>1.45900</td>\n",
       "      <td>1.33095</td>\n",
       "      <td>0.88521</td>\n",
       "      <td>0.66973</td>\n",
       "      <td>0.36503</td>\n",
       "      <td>0.34699</td>\n",
       "      <td>2.46531</td>\n",
       "      <td>NOR</td>\n",
       "      <td>5223256</td>\n",
       "      <td>323802</td>\n",
       "    </tr>\n",
       "    <tr>\n",
       "      <th>4</th>\n",
       "      <td>Canada</td>\n",
       "      <td>North America</td>\n",
       "      <td>5</td>\n",
       "      <td>7.427</td>\n",
       "      <td>0.03553</td>\n",
       "      <td>1.32629</td>\n",
       "      <td>1.32261</td>\n",
       "      <td>0.90563</td>\n",
       "      <td>0.63297</td>\n",
       "      <td>0.32957</td>\n",
       "      <td>0.45811</td>\n",
       "      <td>2.45176</td>\n",
       "      <td>CAN</td>\n",
       "      <td>36155487</td>\n",
       "      <td>9984670</td>\n",
       "    </tr>\n",
       "  </tbody>\n",
       "</table>\n",
       "</div>"
      ],
      "text/plain": [
       "       Country          Region  Happiness Rank  Happiness Score  \\\n",
       "0  Switzerland  Western Europe               1            7.587   \n",
       "1      Iceland  Western Europe               2            7.561   \n",
       "2      Denmark  Western Europe               3            7.527   \n",
       "3       Norway  Western Europe               4            7.522   \n",
       "4       Canada   North America               5            7.427   \n",
       "\n",
       "   Standard Error  Economy (GDP per Capita)   Family  \\\n",
       "0         0.03411                   1.39651  1.34951   \n",
       "1         0.04884                   1.30232  1.40223   \n",
       "2         0.03328                   1.32548  1.36058   \n",
       "3         0.03880                   1.45900  1.33095   \n",
       "4         0.03553                   1.32629  1.32261   \n",
       "\n",
       "   Health (Life Expectancy)  Freedom  Trust (Government Corruption)  \\\n",
       "0                   0.94143  0.66557                        0.41978   \n",
       "1                   0.94784  0.62877                        0.14145   \n",
       "2                   0.87464  0.64938                        0.48357   \n",
       "3                   0.88521  0.66973                        0.36503   \n",
       "4                   0.90563  0.63297                        0.32957   \n",
       "\n",
       "   Generosity  Dystopia Residual code population     area  \n",
       "0     0.29678            2.51738  CHE    8341600    41284  \n",
       "1     0.43630            2.70201  ISL     334300   103000  \n",
       "2     0.34139            2.49204  DNK    5717014    43094  \n",
       "3     0.34699            2.46531  NOR    5223256   323802  \n",
       "4     0.45811            2.45176  CAN   36155487  9984670  "
      ]
     },
     "execution_count": 2,
     "metadata": {},
     "output_type": "execute_result"
    }
   ],
   "source": [
    "# load csv files from both makeup results or initial data\n",
    "df_suicide = pd.read_csv('Resources/suicide_rates.csv')\n",
    "df_happy_2015 = pd.read_csv('Output/happiness_2015.csv')\n",
    "df_happy_2015.head()"
   ]
  },
  {
   "cell_type": "code",
   "execution_count": 3,
   "metadata": {
    "scrolled": true
   },
   "outputs": [
    {
     "data": {
      "text/plain": [
       "62"
      ]
     },
     "execution_count": 3,
     "metadata": {},
     "output_type": "execute_result"
    }
   ],
   "source": [
    "# use the first data to get 2015's data and find the total countries in this data\n",
    "suicide_2015_first = df_suicide.loc[(df_suicide['year'] == 2015),:]\n",
    "suicide_2015_group = suicide_2015_first.groupby('country').suicides_no\\\n",
    "                    .agg('sum')\n",
    "suicide_2015_group.shape[0]"
   ]
  },
  {
   "cell_type": "code",
   "execution_count": 4,
   "metadata": {},
   "outputs": [
    {
     "data": {
      "text/plain": [
       "183"
      ]
     },
     "execution_count": 4,
     "metadata": {},
     "output_type": "execute_result"
    }
   ],
   "source": [
    "# load csv files in the second data and rename and drop the unnecessary columns \n",
    "# and find the total countries in 2015\n",
    "df_sui_data = pd.read_csv('Resources/suicide_data.csv')\n",
    "column = {'Unnamed: 0': 'Country', 'Unnamed: 1': 'sex',\n",
    "           'Crude suicide rates (per 100 000 population)': '2016',\n",
    "           'Crude suicide rates (per 100 000 population).1': '2015'}\n",
    "df_sui_data = df_sui_data.rename(columns = column)\n",
    "drop_columns = ['Crude suicide rates (per 100 000 population).2',\n",
    "                'Crude suicide rates (per 100 000 population).3', \n",
    "                'Crude suicide rates (per 100 000 population).4']\n",
    "df_sui_data = df_sui_data.drop(index = 0, columns = drop_columns).reset_index()\n",
    "df_sui_data = df_sui_data.loc[df_sui_data['sex'] == 'Both sexes',:].reset_index()\n",
    "df_sui_data = df_sui_data.drop(columns = ['index', 'sex','level_0'])\n",
    "df_sui_data.shape[0]"
   ]
  },
  {
   "cell_type": "code",
   "execution_count": 5,
   "metadata": {},
   "outputs": [
    {
     "data": {
      "text/plain": [
       "24"
      ]
     },
     "execution_count": 5,
     "metadata": {},
     "output_type": "execute_result"
    }
   ],
   "source": [
    "# merge the happiness dataframe and the second suicide data and found the gap of countries\n",
    "merged_initial = pd.merge(df_happy_2015, df_sui_data, how = 'left', on = 'Country')\n",
    "merged_initial_2015 = merged_initial.drop(columns = ['2016']).set_index('Country')\n",
    "merged_initial_2015[merged_initial_2015.isna().any(axis = 1)].shape[0]"
   ]
  },
  {
   "cell_type": "code",
   "execution_count": 6,
   "metadata": {},
   "outputs": [],
   "source": [
    "# use an api called restcountry to find the code of the country for dataframe happiness\n",
    "# final_dict = {'United State': 1, 'Ireland': 0, 'Oman': 0, 'China': 0, 'India': 1, \n",
    "#               'Sudan': 0, 'Georgia': 0, 'Mali': 0, 'Niger': 0, 'Guinea': 1}\n",
    "# for i in df_happy_2015.index:\n",
    "#     try:\n",
    "#         name = df_happy_2015['Country'][i]\n",
    "#         url = 'https://restcountries.eu/rest/v2/name/' + name\n",
    "#         population = requests.get(url).json()\n",
    "#         population[1]['population']\n",
    "#         for j in final_dict.keys():\n",
    "#             if j == name:\n",
    "#                 correct_num = final_dict[j]\n",
    "#                 break\n",
    "#         df_happy_2015['code'][i] = population[correct_num]['alpha3Code']\n",
    "#         df_happy_2015['population'][i] = population[correct_num]['population']\n",
    "#         df_happy_2015['area'][i] = population[correct_num]['area']\n",
    "#     except:\n",
    "#         try:\n",
    "#             df_happy_2015['code'][i] = population[0]['alpha3Code']\n",
    "#             df_happy_2015['population'][i] = population[0]['population']\n",
    "#             df_happy_2015['area'][i] = population[0]['area']\n",
    "#         except:\n",
    "#             df_happy_2015['code'][i] = 'not-found'\n",
    "#             df_happy_2015['population'][i] = 'not-found'\n",
    "#             df_happy_2015['area'][i] = 'not-found'\n",
    "# df_happy_2015\n",
    "# df_happy_2015.to_csv('Output/happiness_2015.csv', index = False)"
   ]
  },
  {
   "cell_type": "code",
   "execution_count": 7,
   "metadata": {},
   "outputs": [
    {
     "data": {
      "text/plain": [
       "6"
      ]
     },
     "execution_count": 7,
     "metadata": {},
     "output_type": "execute_result"
    }
   ],
   "source": [
    "# find the happiness dataframe's gap where there is no data on the api\n",
    "not_found = df_happy_2015.loc[df_happy_2015['code'] == 'not-found',:]\n",
    "not_found.shape[0]"
   ]
  },
  {
   "cell_type": "code",
   "execution_count": 8,
   "metadata": {},
   "outputs": [
    {
     "data": {
      "text/html": [
       "<div>\n",
       "<style scoped>\n",
       "    .dataframe tbody tr th:only-of-type {\n",
       "        vertical-align: middle;\n",
       "    }\n",
       "\n",
       "    .dataframe tbody tr th {\n",
       "        vertical-align: top;\n",
       "    }\n",
       "\n",
       "    .dataframe thead th {\n",
       "        text-align: right;\n",
       "    }\n",
       "</style>\n",
       "<table border=\"1\" class=\"dataframe\">\n",
       "  <thead>\n",
       "    <tr style=\"text-align: right;\">\n",
       "      <th></th>\n",
       "      <th>Country</th>\n",
       "      <th>2016</th>\n",
       "      <th>2015</th>\n",
       "      <th>code</th>\n",
       "    </tr>\n",
       "  </thead>\n",
       "  <tbody>\n",
       "    <tr>\n",
       "      <th>0</th>\n",
       "      <td>Afghanistan</td>\n",
       "      <td>4.7</td>\n",
       "      <td>4.8</td>\n",
       "      <td>AFG</td>\n",
       "    </tr>\n",
       "    <tr>\n",
       "      <th>1</th>\n",
       "      <td>Albania</td>\n",
       "      <td>6.3</td>\n",
       "      <td>6.0</td>\n",
       "      <td>ALB</td>\n",
       "    </tr>\n",
       "    <tr>\n",
       "      <th>2</th>\n",
       "      <td>Algeria</td>\n",
       "      <td>3.2</td>\n",
       "      <td>3.2</td>\n",
       "      <td>DZA</td>\n",
       "    </tr>\n",
       "    <tr>\n",
       "      <th>3</th>\n",
       "      <td>Angola</td>\n",
       "      <td>4.7</td>\n",
       "      <td>5.0</td>\n",
       "      <td>AGO</td>\n",
       "    </tr>\n",
       "    <tr>\n",
       "      <th>4</th>\n",
       "      <td>Antigua and Barbuda</td>\n",
       "      <td>0.5</td>\n",
       "      <td>0.8</td>\n",
       "      <td>ATG</td>\n",
       "    </tr>\n",
       "  </tbody>\n",
       "</table>\n",
       "</div>"
      ],
      "text/plain": [
       "               Country  2016  2015 code\n",
       "0          Afghanistan   4.7   4.8  AFG\n",
       "1              Albania   6.3   6.0  ALB\n",
       "2              Algeria   3.2   3.2  DZA\n",
       "3               Angola   4.7   5.0  AGO\n",
       "4  Antigua and Barbuda   0.5   0.8  ATG"
      ]
     },
     "execution_count": 8,
     "metadata": {},
     "output_type": "execute_result"
    }
   ],
   "source": [
    "# load the makeup data to save running time\n",
    "df_sui_data_code = pd.read_csv('Output/suicide_code.csv')\n",
    "df_sui_data_code.head()"
   ]
  },
  {
   "cell_type": "code",
   "execution_count": 9,
   "metadata": {},
   "outputs": [],
   "source": [
    "# to the similar process to find the code in second suicide data\n",
    "# df_sui_data['code'] = ''\n",
    "# multiple_data = {}\n",
    "# final_sui = {'China': 0, 'Congo': 0, 'Georgia': 0, 'Guinea': 1, 'India': 1,\n",
    "#              'Ireland': 0, 'Mali': 0, 'Niger': 0, 'Oman': 0, 'Republic of Korea': 0, \n",
    "#              'Samoa': 1, 'Sudan': 1}\n",
    "# for i in df_sui_data.index:\n",
    "#     try:\n",
    "#         name = df_sui_data['Country'][i]\n",
    "#         url = 'https://restcountries.eu/rest/v2/name/' + name\n",
    "#         population = requests.get(url).json()\n",
    "#         population[1]['population']\n",
    "#         for j in final_sui.keys():\n",
    "#             if j == name:\n",
    "#                 correct_num = final_sui[j]\n",
    "#                 break\n",
    "#         df_sui_data['code'][i] = population[correct_num]['alpha3Code']\n",
    "#         multiple_data[name] = population\n",
    "#     except:\n",
    "#         try:\n",
    "#             df_sui_data['code'][i] = population[0]['alpha3Code']\n",
    "#         except:\n",
    "#             df_sui_data['code'][i] = 'not_found'\n",
    "# df_sui_data.head()\n",
    "# df_sui_data.to_csv('Output/suicide_code.csv', index = False)"
   ]
  },
  {
   "cell_type": "code",
   "execution_count": 10,
   "metadata": {},
   "outputs": [
    {
     "data": {
      "text/plain": [
       "11"
      ]
     },
     "execution_count": 10,
     "metadata": {},
     "output_type": "execute_result"
    }
   ],
   "source": [
    "# merge the second one to find the gap\n",
    "merged_second = pd.merge(df_happy_2015, df_sui_data_code, how = 'left', on = 'code')\n",
    "merged_second_2015 = merged_second.drop(columns = ['2016', 'Country_y'])\\\n",
    "                    .set_index('code').rename(columns = {'Country_x': 'Country', 'Unnamed: 0': ''})\n",
    "merged_second_2015[merged_second_2015.isna().any(axis = 1)].shape[0]"
   ]
  },
  {
   "cell_type": "code",
   "execution_count": 11,
   "metadata": {},
   "outputs": [],
   "source": [
    "merged_reset_index = merged_second_2015.reset_index()"
   ]
  },
  {
   "cell_type": "code",
   "execution_count": 16,
   "metadata": {},
   "outputs": [],
   "source": [
    "# connect the monogo db\n",
    "uri = \"mongodb://localhost:27017\"\n",
    "client = MongoClient(uri)\n",
    "db = client.get_database('happinessDB')\n",
    "collection = db.secondDB"
   ]
  },
  {
   "cell_type": "code",
   "execution_count": 17,
   "metadata": {},
   "outputs": [
    {
     "data": {
      "text/plain": [
       "158"
      ]
     },
     "execution_count": 17,
     "metadata": {},
     "output_type": "execute_result"
    }
   ],
   "source": [
    "# turn the dataframe to json\n",
    "json_merged = merged_reset_index.to_json(orient = 'records')\n",
    "json_merged = json.loads(json_merged)\n",
    "len(json_merged)"
   ]
  },
  {
   "cell_type": "code",
   "execution_count": 18,
   "metadata": {},
   "outputs": [],
   "source": [
    "# load the json to mongo db\n",
    "for i in json_merged:\n",
    "    collection.insert_one(i)"
   ]
  },
  {
   "cell_type": "code",
   "execution_count": null,
   "metadata": {},
   "outputs": [],
   "source": []
  }
 ],
 "metadata": {
  "kernelspec": {
   "display_name": "Python 3",
   "language": "python",
   "name": "python3"
  },
  "language_info": {
   "codemirror_mode": {
    "name": "ipython",
    "version": 3
   },
   "file_extension": ".py",
   "mimetype": "text/x-python",
   "name": "python",
   "nbconvert_exporter": "python",
   "pygments_lexer": "ipython3",
   "version": "3.7.4"
  }
 },
 "nbformat": 4,
 "nbformat_minor": 2
}
